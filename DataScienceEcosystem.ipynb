{
  "nbformat": 4,
  "nbformat_minor": 0,
  "metadata": {
    "colab": {
      "provenance": []
    },
    "kernelspec": {
      "name": "python3",
      "display_name": "Python 3"
    },
    "language_info": {
      "name": "python"
    }
  },
  "cells": [
    {
      "cell_type": "markdown",
      "source": [
        "# Data Science Tools and Ecosystem"
      ],
      "metadata": {
        "id": "728QDTFBHgQI"
      }
    },
    {
      "cell_type": "markdown",
      "source": [
        "In this notebook, Data Science Tools and Ecosystem are summarized."
      ],
      "metadata": {
        "id": "JGs4ZoxGIfqV"
      }
    },
    {
      "cell_type": "markdown",
      "source": [
        "Some of the popular languages that Data Scientists use are:  \n",
        "\n",
        "1. Python  \n",
        "2. R  \n",
        "3. Julia  \n",
        "4. SQL  \n",
        "5. Scala  \n",
        "\n"
      ],
      "metadata": {
        "id": "V_cyYbfpI7Ag"
      }
    },
    {
      "cell_type": "markdown",
      "source": [
        "Some of the commonly used libraries used by Data Scientists include:  \n",
        "\n",
        "1. NumPy  \n",
        "2. Pandas  \n",
        "3. Matplotlib  \n",
        "4. Scikit-learn  \n",
        "5. TensorFlow  \n",
        "6. PyTorch  \n"
      ],
      "metadata": {
        "id": "K-6R__fnJP42"
      }
    },
    {
      "cell_type": "markdown",
      "source": [
        "Some of the commonly used Data Science tools include:  \n",
        "\n",
        "| Data Science Tools        |\n",
        "|---------------------------|\n",
        "| Jupyter Notebook          |\n",
        "| RStudio                   |\n",
        "| VS Code           |\n"
      ],
      "metadata": {
        "id": "OEmvh8R1JgmF"
      }
    },
    {
      "cell_type": "markdown",
      "source": [
        "### Below are a few examples of evaluating arithmetic expressions in Python.\n"
      ],
      "metadata": {
        "id": "xlf3jljiJ9IH"
      }
    },
    {
      "cell_type": "code",
      "source": [
        "# This is a simple arithmetic expression to multiply then add integers\n",
        "(3 * 4) + 5"
      ],
      "metadata": {
        "colab": {
          "base_uri": "https://localhost:8080/"
        },
        "id": "0SRilq6qKRql",
        "outputId": "dc4a4ef9-0539-467d-b92f-3f16101fd436"
      },
      "execution_count": 1,
      "outputs": [
        {
          "output_type": "execute_result",
          "data": {
            "text/plain": [
              "17"
            ]
          },
          "metadata": {},
          "execution_count": 1
        }
      ]
    },
    {
      "cell_type": "code",
      "source": [
        "# This will convert 200 minutes to hours by dividing by 60\n",
        "200 / 60"
      ],
      "metadata": {
        "colab": {
          "base_uri": "https://localhost:8080/"
        },
        "id": "7PP2_9PjKmNw",
        "outputId": "89196896-0d25-4cad-a2dc-5c98220bd976"
      },
      "execution_count": 2,
      "outputs": [
        {
          "output_type": "execute_result",
          "data": {
            "text/plain": [
              "3.3333333333333335"
            ]
          },
          "metadata": {},
          "execution_count": 2
        }
      ]
    },
    {
      "cell_type": "markdown",
      "source": [
        "**Objectives:**  \n",
        "\n",
        "- List popular languages for Data Science  \n",
        "- Identify common used Data Science libraries  \n",
        "- Explore Data Science tools  \n",
        "- Perform arithmetic expressions  \n",
        "- Convert time units\n"
      ],
      "metadata": {
        "id": "pDsbTaquLD9t"
      }
    },
    {
      "cell_type": "markdown",
      "source": [
        "## Author  \n",
        "Ravi Pandey  \n"
      ],
      "metadata": {
        "id": "Q7_xx0obLtQm"
      }
    },
    {
      "cell_type": "code",
      "source": [],
      "metadata": {
        "id": "LeeXAXuBLvX_"
      },
      "execution_count": null,
      "outputs": []
    }
  ]
}